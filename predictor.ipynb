{
 "cells": [
  {
   "cell_type": "code",
   "execution_count": 1,
   "metadata": {},
   "outputs": [
    {
     "name": "stderr",
     "output_type": "stream",
     "text": [
      "C:\\Users\\duy.truong\\AppData\\Local\\Continuum\\anaconda3\\lib\\site-packages\\h5py\\__init__.py:36: FutureWarning: Conversion of the second argument of issubdtype from `float` to `np.floating` is deprecated. In future, it will be treated as `np.float64 == np.dtype(float).type`.\n",
      "  from ._conv import register_converters as _register_converters\n",
      "Using TensorFlow backend.\n"
     ]
    }
   ],
   "source": [
    "import pandas as pd\n",
    "import numpy as np\n",
    "import matplotlib.pyplot as plt\n",
    "%matplotlib inline\n",
    "import seaborn as sns\n",
    "\n",
    "from scipy.sparse import hstack, csr_matrix, vstack\n",
    "\n",
    "from sklearn.model_selection import train_test_split\n",
    "from sklearn.feature_extraction.text import TfidfVectorizer\n",
    "from sklearn.decomposition import TruncatedSVD\n",
    "from sklearn.model_selection import StratifiedKFold\n",
    "from sklearn.metrics import f1_score\n",
    "\n",
    "from keras.preprocessing import sequence "
   ]
  },
  {
   "cell_type": "code",
   "execution_count": 2,
   "metadata": {},
   "outputs": [],
   "source": [
    "# Load data\n",
    "train_df = pd.read_csv(\"./data/train.csv\")\n",
    "test_df = pd.read_csv(\"./data/test.csv\")"
   ]
  },
  {
   "cell_type": "code",
   "execution_count": 3,
   "metadata": {},
   "outputs": [
    {
     "data": {
      "text/html": [
       "<div>\n",
       "<style scoped>\n",
       "    .dataframe tbody tr th:only-of-type {\n",
       "        vertical-align: middle;\n",
       "    }\n",
       "\n",
       "    .dataframe tbody tr th {\n",
       "        vertical-align: top;\n",
       "    }\n",
       "\n",
       "    .dataframe thead th {\n",
       "        text-align: right;\n",
       "    }\n",
       "</style>\n",
       "<table border=\"1\" class=\"dataframe\">\n",
       "  <thead>\n",
       "    <tr style=\"text-align: right;\">\n",
       "      <th></th>\n",
       "      <th>id</th>\n",
       "      <th>comment</th>\n",
       "      <th>label</th>\n",
       "    </tr>\n",
       "  </thead>\n",
       "  <tbody>\n",
       "    <tr>\n",
       "      <th>0</th>\n",
       "      <td>train_000000</td>\n",
       "      <td>Dung dc sp tot cam on \\r\\nshop Đóng gói sản ph...</td>\n",
       "      <td>0</td>\n",
       "    </tr>\n",
       "    <tr>\n",
       "      <th>1</th>\n",
       "      <td>train_000001</td>\n",
       "      <td>Chất lượng sản phẩm tuyệt vời . Son mịn nhưng...</td>\n",
       "      <td>0</td>\n",
       "    </tr>\n",
       "    <tr>\n",
       "      <th>2</th>\n",
       "      <td>train_000002</td>\n",
       "      <td>Chất lượng sản phẩm tuyệt vời nhưng k có hộp ...</td>\n",
       "      <td>0</td>\n",
       "    </tr>\n",
       "    <tr>\n",
       "      <th>3</th>\n",
       "      <td>train_000003</td>\n",
       "      <td>:(( Mình hơi thất vọng 1 chút vì mình đã kỳ vọ...</td>\n",
       "      <td>1</td>\n",
       "    </tr>\n",
       "    <tr>\n",
       "      <th>4</th>\n",
       "      <td>train_000004</td>\n",
       "      <td>Lần trước mình mua áo gió màu hồng rất ok mà đ...</td>\n",
       "      <td>1</td>\n",
       "    </tr>\n",
       "  </tbody>\n",
       "</table>\n",
       "</div>"
      ],
      "text/plain": [
       "             id                                            comment  label\n",
       "0  train_000000  Dung dc sp tot cam on \\r\\nshop Đóng gói sản ph...      0\n",
       "1  train_000001   Chất lượng sản phẩm tuyệt vời . Son mịn nhưng...      0\n",
       "2  train_000002   Chất lượng sản phẩm tuyệt vời nhưng k có hộp ...      0\n",
       "3  train_000003  :(( Mình hơi thất vọng 1 chút vì mình đã kỳ vọ...      1\n",
       "4  train_000004  Lần trước mình mua áo gió màu hồng rất ok mà đ...      1"
      ]
     },
     "execution_count": 3,
     "metadata": {},
     "output_type": "execute_result"
    }
   ],
   "source": [
    "train_df.head()"
   ]
  },
  {
   "cell_type": "code",
   "execution_count": 4,
   "metadata": {},
   "outputs": [
    {
     "data": {
      "text/plain": [
       "(16087, 3)"
      ]
     },
     "execution_count": 4,
     "metadata": {},
     "output_type": "execute_result"
    }
   ],
   "source": [
    "train_df.shape"
   ]
  },
  {
   "cell_type": "code",
   "execution_count": 5,
   "metadata": {},
   "outputs": [
    {
     "data": {
      "text/html": [
       "<div>\n",
       "<style scoped>\n",
       "    .dataframe tbody tr th:only-of-type {\n",
       "        vertical-align: middle;\n",
       "    }\n",
       "\n",
       "    .dataframe tbody tr th {\n",
       "        vertical-align: top;\n",
       "    }\n",
       "\n",
       "    .dataframe thead th {\n",
       "        text-align: right;\n",
       "    }\n",
       "</style>\n",
       "<table border=\"1\" class=\"dataframe\">\n",
       "  <thead>\n",
       "    <tr style=\"text-align: right;\">\n",
       "      <th></th>\n",
       "      <th>id</th>\n",
       "      <th>comment</th>\n",
       "    </tr>\n",
       "  </thead>\n",
       "  <tbody>\n",
       "    <tr>\n",
       "      <th>0</th>\n",
       "      <td>test_000000</td>\n",
       "      <td>Chưa dùng thử nên chưa biết</td>\n",
       "    </tr>\n",
       "    <tr>\n",
       "      <th>1</th>\n",
       "      <td>test_000001</td>\n",
       "      <td>Không đáng tiềnVì ngay đợt sale nên mới mua n...</td>\n",
       "    </tr>\n",
       "    <tr>\n",
       "      <th>2</th>\n",
       "      <td>test_000002</td>\n",
       "      <td>Cám ơn shop. Đóng gói sản phẩm rất đẹp và chắc...</td>\n",
       "    </tr>\n",
       "    <tr>\n",
       "      <th>3</th>\n",
       "      <td>test_000003</td>\n",
       "      <td>Vải đẹp.phom oki luôn.quá ưng</td>\n",
       "    </tr>\n",
       "    <tr>\n",
       "      <th>4</th>\n",
       "      <td>test_000004</td>\n",
       "      <td>Chuẩn hàng đóng gói đẹp</td>\n",
       "    </tr>\n",
       "  </tbody>\n",
       "</table>\n",
       "</div>"
      ],
      "text/plain": [
       "            id                                            comment\n",
       "0  test_000000                        Chưa dùng thử nên chưa biết\n",
       "1  test_000001   Không đáng tiềnVì ngay đợt sale nên mới mua n...\n",
       "2  test_000002  Cám ơn shop. Đóng gói sản phẩm rất đẹp và chắc...\n",
       "3  test_000003                      Vải đẹp.phom oki luôn.quá ưng\n",
       "4  test_000004                            Chuẩn hàng đóng gói đẹp"
      ]
     },
     "execution_count": 5,
     "metadata": {},
     "output_type": "execute_result"
    }
   ],
   "source": [
    "test_df.head()"
   ]
  },
  {
   "cell_type": "code",
   "execution_count": 6,
   "metadata": {},
   "outputs": [
    {
     "data": {
      "text/plain": [
       "(10981, 2)"
      ]
     },
     "execution_count": 6,
     "metadata": {},
     "output_type": "execute_result"
    }
   ],
   "source": [
    "test_df.shape"
   ]
  },
  {
   "cell_type": "code",
   "execution_count": 7,
   "metadata": {},
   "outputs": [
    {
     "data": {
      "text/html": [
       "<div>\n",
       "<style scoped>\n",
       "    .dataframe tbody tr th:only-of-type {\n",
       "        vertical-align: middle;\n",
       "    }\n",
       "\n",
       "    .dataframe tbody tr th {\n",
       "        vertical-align: top;\n",
       "    }\n",
       "\n",
       "    .dataframe thead th {\n",
       "        text-align: right;\n",
       "    }\n",
       "</style>\n",
       "<table border=\"1\" class=\"dataframe\">\n",
       "  <thead>\n",
       "    <tr style=\"text-align: right;\">\n",
       "      <th></th>\n",
       "      <th>count</th>\n",
       "      <th>percent</th>\n",
       "    </tr>\n",
       "  </thead>\n",
       "  <tbody>\n",
       "  </tbody>\n",
       "</table>\n",
       "</div>"
      ],
      "text/plain": [
       "Empty DataFrame\n",
       "Columns: [count, percent]\n",
       "Index: []"
      ]
     },
     "metadata": {},
     "output_type": "display_data"
    }
   ],
   "source": [
    "def count_nulls(df):\n",
    "    null_counter = df.isnull().sum(axis=0)\n",
    "    null_counter = null_counter[null_counter > 0]\n",
    "    null_percent = df.isnull().sum(axis=0) / df.shape[0] * 100\n",
    "    null_percent = null_percent[null_percent > 0]\n",
    "    null_df = pd.concat([null_counter,null_percent],axis=1)\n",
    "    null_df.columns = ['count','percent']\n",
    "    display(null_df)\n",
    "\n",
    "count_nulls(train_df)"
   ]
  },
  {
   "cell_type": "code",
   "execution_count": 39,
   "metadata": {},
   "outputs": [],
   "source": [
    "vectorizer = TfidfVectorizer(max_features=100000,ngram_range=(1, 3))"
   ]
  },
  {
   "cell_type": "code",
   "execution_count": 40,
   "metadata": {},
   "outputs": [
    {
     "data": {
      "text/plain": [
       "2142      Chất lượng sản phẩm tuyệt vời \\r\\nRất đáng tiền.\n",
       "3851                  Shop phục vụ rất kém giao thiếu hàng\n",
       "5844                                          Thik lam\\r\\n\n",
       "1082         Giao hàng kh đúng màu. Mặc dù đã chú thích.  \n",
       "1671     Sản phẩm nhìn ko chất lượng giờ chạy ko đúng m...\n",
       "8522                                  Giày như trong hình❤\n",
       "10546                    Sản phẩm ok lắm. Nằm thấy dễ chịu\n",
       "5145      Chất lượng sản phẩm tuyệt vời Đóng gói sản ph...\n",
       "15380    Vỏ chặn bị dính bẩn như qua sd rôigiặt ko sạch...\n",
       "1503          Võ ngoài bị lõm chắc do quá trình vận chuyển\n",
       "1971                          Kim bị rớt... chất lượng kém\n",
       "7372                                      \"Thấy ok rồi đó\"\n",
       "3798     Shop giao hàng ko đúng 10 bộ size 6 mà có 4 bộ...\n",
       "5508                         Loa dùng đc.giá phù hơp...\n",
       "694       Chất lượng sản phẩm tuyệt vời không thích ngư...\n",
       "12127           Hàng đẹp đóng cẩn thận nhưng giao hàng lâu\n",
       "3855                      Trả tiền 2 mà mới nhận đc 1\n",
       "12737     Chất lượng sản phẩm kém  Giống quần vải bình ...\n",
       "6113     Cuốn sách quá mỏng và lượng kiến thức quá ít. ...\n",
       "13925     Chất lượng sản phẩm tuyệt vời Đóng gói sản ph...\n",
       "10023     Chất lượng sản phẩm rất kém .... ko đúng hình...\n",
       "7040                                     Chưa hài lòng\\r\\n\n",
       "3094                                      Sản phẩm được . \n",
       "9372     Shop ko co uy tin. Giao hang thiếu ko  khac p...\n",
       "6950      Xay đá và thịt rất nhuyễn máy k ổn lắm. Chất ...\n",
       "6480      Thời gian giao hàng rất nhanh Chất lượng sản ...\n",
       "6954                                              vai mong\n",
       "8500                           1 bên  dép bị bong mất hình\n",
       "7309      Chất lượng sản phẩm rất kém Chăn made in chin...\n",
       "3244     Giày kiểu dáng đẹp  Đóng gói sản phẩm rất đẹp ...\n",
       "                               ...                        \n",
       "5051                                  moi mang vo nuoc day\n",
       "5311     Sản phẩm không sử dụng được k có đèn báo k ra ...\n",
       "2433     Hàng như ý muốn ạ . Dày và chất liệu tốt nói c...\n",
       "6949     Lần đầu tôi cũng mua tã moony trên tiki thì đư...\n",
       "15773    nói chung là ngonkhông được hoàn thiện cho lắm...\n",
       "13803                                  Bị hư shop k rep ib\n",
       "10583               Không sử dụng được. Miếng dính cao quá\n",
       "769       Rất đáng tiền ,Thời gian giao hàng rất nhanh ...\n",
       "15668    mascara bị vốn cục chuốc lên lông mi thành một...\n",
       "1685     \"Đã mấy năm nay chả ai mang camera của IP ra s...\n",
       "8322     Ko phải tại quạt to mà tại lưới qá bé. Chỉ hơn...\n",
       "16023    Dính 1 vệt keo trắng bệt quai bị rách mà nói s...\n",
       "11111    gửi hàng về không có hạt giống yêu cầu shop xe...\n",
       "11363    màn hình bị đơ không mượt phải tháo pin ra khở...\n",
       "11636       Màu lên rất đẹp.... shop rất dt... yêu shop...\n",
       "14423    Nồi nấu chậmđể qua đêm cháo nhừ Shop phục vụ r...\n",
       "5578     Đẹp lắm ạ. 1 photobook 2 poster 2 bookmark. Sh...\n",
       "4426     hàng chuẩn. cho 5 sao... Đóng gói sản phẩm rất...\n",
       "13526     Chất lượng sản phẩm kém Chất lượng sản phẩm k...\n",
       "466      Sp trục trặc. Xin tư vấn of shop thì shop hok ...\n",
       "6265      Đóng gói sản phẩm rất đẹp và chắc chắn thích ...\n",
       "5734      Đóng gói sản phẩm rất đẹp và chắc chắn. Phần...\n",
       "11284                     Chất vải xấu ko giống trong hình\n",
       "11964    Hàng y hình chất lượng tốt giao hàng nhanh sho...\n",
       "5191                                               mi dep.\n",
       "13418    quá thất vọng so với quảng cáo tiếng quá bélắp...\n",
       "5390       Hàng đẹp chống nước tốt. Nhiệt tình ghê yêu yêu\n",
       "860      C chủ và nhân viên dễ thương vui vẻ sẽ ủng hộ ...\n",
       "15795    Shop giao hang nhanh. Đóng gói cẩn thận. Tuy c...\n",
       "7270                               Nhiều mớ.đen.không ngon\n",
       "Name: comment, Length: 11260, dtype: object"
      ]
     },
     "execution_count": 40,
     "metadata": {},
     "output_type": "execute_result"
    }
   ],
   "source": [
    "x_train, x_val, y_train, y_val = train_test_split(train_df.comment, train_df.label, test_size=0.3,\n",
    "    random_state=42)\n",
    "x_train"
   ]
  },
  {
   "cell_type": "code",
   "execution_count": 41,
   "metadata": {},
   "outputs": [],
   "source": [
    "vectorizer.fit(x_train)\n",
    "x_tfidf_train = vectorizer.transform(x_train)\n",
    "x_tfidf_val = vectorizer.transform(x_val)"
   ]
  },
  {
   "cell_type": "code",
   "execution_count": 42,
   "metadata": {},
   "outputs": [
    {
     "data": {
      "text/plain": [
       "(11260, 100000)"
      ]
     },
     "execution_count": 42,
     "metadata": {},
     "output_type": "execute_result"
    }
   ],
   "source": [
    "x_tfidf_train.shape"
   ]
  },
  {
   "cell_type": "code",
   "execution_count": 43,
   "metadata": {},
   "outputs": [
    {
     "name": "stdout",
     "output_type": "stream",
     "text": [
      "Train model.......\n"
     ]
    },
    {
     "name": "stderr",
     "output_type": "stream",
     "text": [
      "C:\\Users\\duy.truong\\AppData\\Local\\Continuum\\anaconda3\\lib\\site-packages\\sklearn\\linear_model\\logistic.py:433: FutureWarning: Default solver will be changed to 'lbfgs' in 0.22. Specify a solver to silence this warning.\n",
      "  FutureWarning)\n"
     ]
    },
    {
     "name": "stdout",
     "output_type": "stream",
     "text": [
      "Predict ......\n",
      "accuracy score: 89.02%\n",
      "F1 score: 0.88\n"
     ]
    }
   ],
   "source": [
    "from sklearn.linear_model import LogisticRegression,RidgeClassifier\n",
    "from sklearn.ensemble import GradientBoostingClassifier, GradientBoostingRegressor, RandomForestClassifier, ExtraTreesClassifier\n",
    "from sklearn.metrics import accuracy_score, f1_score\n",
    "\n",
    "# model = GradientBoostingClassifier(\n",
    "#                                            n_estimators=1000,\n",
    "# #                                            learning_rate= 0.002,\n",
    "#                                            max_depth = 7,\n",
    "#                                            min_samples_leaf=10,\n",
    "#                                            verbose =1)\n",
    "\n",
    "model = LogisticRegression()\n",
    "\n",
    "print(\"Train model.......\")\n",
    "sentiment_fit = model.fit(x_tfidf_train, y_train)\n",
    "print(\"Predict ......\")\n",
    "y_pred = sentiment_fit.predict(x_tfidf_val)\n",
    "\n",
    "threshold = 0.5\n",
    "y_pred = (y_pred > threshold).astype(np.uint8)\n",
    "\n",
    "accuracy = accuracy_score(y_val, y_pred)\n",
    "print(\"accuracy score: {0:.2f}%\".format(accuracy*100))\n",
    "\n",
    "f1_score = f1_score(y_val, y_pred)\n",
    "print(\"F1 score: {0:.2f}\".format(f1_score))\n"
   ]
  },
  {
   "cell_type": "code",
   "execution_count": 44,
   "metadata": {},
   "outputs": [],
   "source": [
    "from keras.preprocessing import sequence \n",
    "from keras.preprocessing.text import Tokenizer\n",
    "\n",
    "### Create sequence\n",
    "vocabulary_size = 20000\n",
    "tokenizer = Tokenizer(num_words= vocabulary_size)\n",
    "tokenizer.fit_on_texts(x_train)\n",
    "\n",
    "max_review_length = 500\n",
    "sequences = tokenizer.texts_to_sequences(x_train)\n",
    "X_train = sequence.pad_sequences(sequences, max_review_length)\n",
    "\n",
    "sequences = tokenizer.texts_to_sequences(x_val)\n",
    "X_test = sequence.pad_sequences(sequences, max_review_length)\n",
    "\n",
    "# X_train = x_tfidf_train\n",
    "# X_test = x_tfidf_val"
   ]
  },
  {
   "cell_type": "code",
   "execution_count": 15,
   "metadata": {},
   "outputs": [
    {
     "data": {
      "text/plain": [
       "array([[   0,    0,    0, ...,  184,   52,   69],\n",
       "       [   0,    0,    0, ...,   11,   30,   26],\n",
       "       [   0,    0,    0, ...,    5,  832, 2178],\n",
       "       ...,\n",
       "       [   0,    0,    0, ...,    0,    0,  117],\n",
       "       [   0,    0,    0, ..., 1126,   68,  201],\n",
       "       [   0,    0,    0, ...,    9,   10,  257]])"
      ]
     },
     "execution_count": 15,
     "metadata": {},
     "output_type": "execute_result"
    }
   ],
   "source": [
    "X_test"
   ]
  },
  {
   "cell_type": "code",
   "execution_count": 52,
   "metadata": {},
   "outputs": [
    {
     "name": "stdout",
     "output_type": "stream",
     "text": [
      "_________________________________________________________________\n",
      "Layer (type)                 Output Shape              Param #   \n",
      "=================================================================\n",
      "embedding_4 (Embedding)      (None, 500, 32)           3200000   \n",
      "_________________________________________________________________\n",
      "lstm_3 (LSTM)                (None, 50)                16600     \n",
      "_________________________________________________________________\n",
      "dense_4 (Dense)              (None, 1)                 51        \n",
      "=================================================================\n",
      "Total params: 3,216,651\n",
      "Trainable params: 3,216,651\n",
      "Non-trainable params: 0\n",
      "_________________________________________________________________\n",
      "None\n"
     ]
    }
   ],
   "source": [
    "# Build the model \n",
    "from keras.models import Sequential\n",
    "from keras.layers import Embedding, LSTM, Dense,Flatten\n",
    "\n",
    "top_words = 100000 \n",
    "embedding_vector_length = 32\n",
    "\n",
    "model = Sequential() \n",
    "model.add(Embedding(top_words, embedding_vector_length, input_length=max_review_length)) \n",
    "model.add(LSTM(50))\n",
    "# model.add(Flatten()) \n",
    "model.add(Dense(1, activation='sigmoid')) \n",
    "model.compile(loss='binary_crossentropy',optimizer='adam', metrics=['accuracy']) \n",
    "print(model.summary()) "
   ]
  },
  {
   "cell_type": "code",
   "execution_count": 53,
   "metadata": {},
   "outputs": [
    {
     "name": "stderr",
     "output_type": "stream",
     "text": [
      "C:\\Users\\duy.truong\\AppData\\Local\\Continuum\\anaconda3\\lib\\site-packages\\ipykernel_launcher.py:2: UserWarning: The `nb_epoch` argument in `fit` has been renamed `epochs`.\n",
      "  \n"
     ]
    },
    {
     "name": "stdout",
     "output_type": "stream",
     "text": [
      "Train on 11260 samples, validate on 4827 samples\n",
      "Epoch 1/5\n",
      "11260/11260 [==============================] - 83s 7ms/step - loss: 0.4806 - acc: 0.7755 - val_loss: 0.2884 - val_acc: 0.8923\n",
      "Epoch 2/5\n",
      "11260/11260 [==============================] - 81s 7ms/step - loss: 0.2537 - acc: 0.9015 - val_loss: 0.2746 - val_acc: 0.8906\n",
      "Epoch 3/5\n",
      "11260/11260 [==============================] - 78s 7ms/step - loss: 0.1947 - acc: 0.9309 - val_loss: 0.2705 - val_acc: 0.8931\n",
      "Epoch 4/5\n",
      "11260/11260 [==============================] - 86s 8ms/step - loss: 0.1601 - acc: 0.9455 - val_loss: 0.2884 - val_acc: 0.8906\n",
      "Epoch 5/5\n",
      "11260/11260 [==============================] - 81s 7ms/step - loss: 0.1365 - acc: 0.9552 - val_loss: 0.3110 - val_acc: 0.8854\n"
     ]
    },
    {
     "data": {
      "text/plain": [
       "<keras.callbacks.History at 0x2a5aec20908>"
      ]
     },
     "execution_count": 53,
     "metadata": {},
     "output_type": "execute_result"
    }
   ],
   "source": [
    "#Train the model\n",
    "model.fit(X_train, y_train, validation_data=(X_test, y_val), nb_epoch=5, batch_size=64) "
   ]
  },
  {
   "cell_type": "code",
   "execution_count": 54,
   "metadata": {},
   "outputs": [
    {
     "data": {
      "text/plain": [
       "array([[2.1576427e-03],\n",
       "       [9.7957075e-01],\n",
       "       [5.2393969e-02],\n",
       "       ...,\n",
       "       [1.4999948e-01],\n",
       "       [9.2515409e-01],\n",
       "       [1.9849870e-04]], dtype=float32)"
      ]
     },
     "execution_count": 54,
     "metadata": {},
     "output_type": "execute_result"
    }
   ],
   "source": [
    "y_pred = model.predict(X_test)\n",
    "y_pred"
   ]
  },
  {
   "cell_type": "code",
   "execution_count": 149,
   "metadata": {},
   "outputs": [
    {
     "data": {
      "text/plain": [
       "array([[3.9474987e-03],\n",
       "       [9.7973776e-01],\n",
       "       [5.0319717e-03],\n",
       "       ...,\n",
       "       [1.3824444e-01],\n",
       "       [8.8915288e-01],\n",
       "       [4.1093484e-05]], dtype=float32)"
      ]
     },
     "execution_count": 149,
     "metadata": {},
     "output_type": "execute_result"
    }
   ],
   "source": [
    "y_pred"
   ]
  },
  {
   "cell_type": "code",
   "execution_count": 55,
   "metadata": {},
   "outputs": [
    {
     "name": "stdout",
     "output_type": "stream",
     "text": [
      "accuracy score: 88.54%\n",
      "F1 score: 0.86%\n"
     ]
    }
   ],
   "source": [
    "from sklearn.metrics import accuracy_score, f1_score\n",
    "\n",
    "threshold = 0.5\n",
    "y_pred = (y_pred > threshold).astype(np.uint8)\n",
    "\n",
    "accuracy = accuracy_score(y_val, y_pred)\n",
    "print(\"accuracy score: {0:.2f}%\".format(accuracy*100))\n",
    "\n",
    "f1_score = f1_score(y_val, y_pred)\n",
    "print(\"F1 score: {0:.2f}%\".format(f1_score))"
   ]
  },
  {
   "cell_type": "code",
   "execution_count": 146,
   "metadata": {},
   "outputs": [
    {
     "name": "stdout",
     "output_type": "stream",
     "text": [
      "F1 score: 0.87%\n"
     ]
    }
   ],
   "source": [
    "from sklearn.metrics import accuracy_score, f1_score\n",
    "\n",
    "y_pred = y_pred.astype(int)\n",
    "f1 = f1_score(y_val, y_pred)\n",
    "print(\"F1 score: {0:.2f}%\".format(f1))"
   ]
  },
  {
   "cell_type": "code",
   "execution_count": null,
   "metadata": {},
   "outputs": [],
   "source": []
  }
 ],
 "metadata": {
  "kernelspec": {
   "display_name": "Python 3",
   "language": "python",
   "name": "python3"
  },
  "language_info": {
   "codemirror_mode": {
    "name": "ipython",
    "version": 3
   },
   "file_extension": ".py",
   "mimetype": "text/x-python",
   "name": "python",
   "nbconvert_exporter": "python",
   "pygments_lexer": "ipython3",
   "version": "3.6.5"
  }
 },
 "nbformat": 4,
 "nbformat_minor": 2
}
